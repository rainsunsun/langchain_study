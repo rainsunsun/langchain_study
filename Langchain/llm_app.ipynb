{
 "cells": [
  {
   "cell_type": "code",
   "execution_count": 1,
   "metadata": {},
   "outputs": [
    {
     "name": "stdout",
     "output_type": "stream",
     "text": [
      "汽车是一种交通工具，通常由发动机驱动，用于载人或载货。现代汽车种类繁多，包括轿车、SUV、卡车等。\n"
     ]
    }
   ],
   "source": [
    "#引入Langchain提示词模板\n",
    "from langchain_core.prompts import ChatPromptTemplate\n",
    "#引入Langchain OpenAI sdk模型 \n",
    "from langchain_openai import ChatOpenAI\n",
    "llm = ChatOpenAI(\n",
    "        model=\"deepseek-chat\",\n",
    "        base_url=\"https://api.deepseek.com/v1\",\n",
    "        api_key=\"sk-d61fcc515cc54ad1af8210b74eccfbd6\",\n",
    "        temperature=0.1,\n",
    "    )\n",
    "    \n",
    "#定义一个提示词模板\n",
    "prompt = ChatPromptTemplate.from_messages([\n",
    "    (\"system\", \"你好，我是一个智能助手，我可以帮你做一些事情。\"),\n",
    "    (\"user\",\"{input}\")\n",
    "])\n",
    "#输出转换，去删除参数的输出\n",
    "from langchain_core.output_parsers import StrOutputParser\n",
    "\n",
    "output_parser = StrOutputParser()\n",
    "#通过langchain的链式调用生成一个链\n",
    "chain = prompt | llm | output_parser\n",
    "\n",
    "result = chain.invoke({\"input\": \"你好，我想知道一些关于汽车的信息，50个字即可。\"})\n",
    "print(result)"
   ]
  }
 ],
 "metadata": {
  "kernelspec": {
   "display_name": "testEnv",
   "language": "python",
   "name": "python3"
  },
  "language_info": {
   "codemirror_mode": {
    "name": "ipython",
    "version": 3
   },
   "file_extension": ".py",
   "mimetype": "text/x-python",
   "name": "python",
   "nbconvert_exporter": "python",
   "pygments_lexer": "ipython3",
   "version": "3.10.6"
  }
 },
 "nbformat": 4,
 "nbformat_minor": 2
}
