{
 "cells": [
  {
   "cell_type": "code",
   "execution_count": 12,
   "metadata": {},
   "outputs": [],
   "source": [
    "from langchain_openai import ChatOpenAI\n",
    "from langgraph.prebuilt import create_react_agent"
   ]
  },
  {
   "cell_type": "code",
   "execution_count": 24,
   "metadata": {},
   "outputs": [],
   "source": [
    "import calendar\n",
    "import dateutil.parser as parser\n",
    "from langchain.tools import tool\n",
    "import time\n",
    "@tool(\"weekday\")\n",
    "def weekday(date_str: str) -> str:\n",
    "    \"\"\"Convert date to weekday name\"\"\"\n",
    "    d = parser.parse(date_str)\n",
    "    time.sleep(2)\n",
    "    return calendar.day_name[d.weekday()]\n",
    "\n",
    "tools = [weekday]  # 将自定义的 tool 添加到 tools 数组中"
   ]
  },
  {
   "cell_type": "code",
   "execution_count": 14,
   "metadata": {},
   "outputs": [],
   "source": [
    "from langchain_openai import ChatOpenAI\n",
    "model = ChatOpenAI(\n",
    "        model=\"ep-20250209190728-xzmmk\",\n",
    "        base_url=\"https://ark.cn-beijing.volces.com/api/v3/\",\n",
    "        api_key=\"da677bb3-2da7-4217-963b-90b324875011\",\n",
    "        temperature=0.1,\n",
    ")"
   ]
  },
  {
   "cell_type": "code",
   "execution_count": 8,
   "metadata": {},
   "outputs": [],
   "source": [
    "from langchain_core.prompts import ChatPromptTemplate, SystemMessagePromptTemplate, HumanMessagePromptTemplate\n",
    "# ---------------- 提示词模板定义 ----------------\n",
    "# 定义系统消息\n",
    "system_message = SystemMessagePromptTemplate.from_template(\n",
    "    \"你是一个搜索日期的智能机器人xsun。必须使用提供的工具来回答问题。\"\n",
    ")\n",
    "\n",
    "# 定义工具描述\n",
    "tools_description = \"\"\"\n",
    "你有以下工具可用：\n",
    "{tools}\n",
    "\"\"\"\n",
    "\n",
    "# 定义用户消息模板\n",
    "human_template = \"\"\"\n",
    "Answer the following questions as best you can. Use the following format:\n",
    "Question: the input question you must answer\n",
    "Thought: you should always think about what to do\n",
    "Action: the action to take, should be one of [{tool_names}]\n",
    "Action Input: the input to the action，如果其中有日期，请确保只输入日期，格式为:YYYY-MM-DD，不要有任何其它字符\n",
    "Observation: the result of the action，如果其中有日期，请确保输出的日期格式为:YYYY-MM-DD，不要有任何其它字符\n",
    "... (this Thought/Action/Action Input/Observation can repeat N times)\n",
    "Thought: I now know the final answer\n",
    "Final Answer: the final answer to the original input question\n",
    "\n",
    "Begin! Let's think step by step. Take a deep breath.\n",
    "\n",
    "Question: {input}\n",
    "Thought:{agent_scratchpad}\n",
    "\"\"\"\n",
    "\n",
    "# 组合提示词模板\n",
    "prompt = ChatPromptTemplate.from_messages([\n",
    "    system_message,\n",
    "    SystemMessagePromptTemplate.from_template(tools_description),\n",
    "    HumanMessagePromptTemplate.from_template(human_template)\n",
    "])"
   ]
  },
  {
   "cell_type": "code",
   "execution_count": null,
   "metadata": {},
   "outputs": [],
   "source": [
    "from typing_extensions import TypedDict\n",
    "from langgraph.managed import IsLastStep\n",
    "from langgraph.graph.message import add_messages\n",
    "from typing import Annotated\n",
    "from langchain.schema import BaseMessage\n",
    "\n",
    "\n",
    "   "
   ]
  },
  {
   "cell_type": "code",
   "execution_count": 22,
   "metadata": {},
   "outputs": [],
   "source": [
    "from langgraph.checkpoint.memory import MemorySaver\n"
   ]
  },
  {
   "cell_type": "code",
   "execution_count": 23,
   "metadata": {},
   "outputs": [],
   "source": [
    "graph = create_react_agent(model, tools, prompt=prompt,checkpointer=MemorySaver())\n",
    "graph_png = graph.get_graph().draw_mermaid_png()\n",
    "with open(\"langgraph_bbzl.png\", \"wb\") as f:\n",
    "    f.write(graph_png)"
   ]
  }
 ],
 "metadata": {
  "kernelspec": {
   "display_name": "testEnv",
   "language": "python",
   "name": "python3"
  },
  "language_info": {
   "codemirror_mode": {
    "name": "ipython",
    "version": 3
   },
   "file_extension": ".py",
   "mimetype": "text/x-python",
   "name": "python",
   "nbconvert_exporter": "python",
   "pygments_lexer": "ipython3",
   "version": "3.10.6"
  }
 },
 "nbformat": 4,
 "nbformat_minor": 2
}
